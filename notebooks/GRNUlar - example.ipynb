{
 "cells": [
  {
   "cell_type": "markdown",
   "metadata": {},
   "source": [
    "# GRNUlar : A small example"
   ]
  },
  {
   "cell_type": "code",
   "execution_count": 3,
   "metadata": {},
   "outputs": [],
   "source": [
    "import sys, os, subprocess\n",
    "sys.path.insert(0, '../')\n",
    "# Make all the changes to parameters in the main_grnular_sample file"
   ]
  },
  {
   "cell_type": "code",
   "execution_count": 4,
   "metadata": {
    "scrolled": false
   },
   "outputs": [
    {
     "name": "stdout",
     "output_type": "stream",
     "text": [
      "The scikit-learn version is 0.20.0.\n",
      "Namespace(ADD_TECHNICAL_NOISE='no', C=5, D=100, DATA_METHOD='sim_expt', DATA_NAME='DS1', DATA_TYPE='clean', DECAYS=1.0, DNN_EPOCHS=40, EPOCHS=20, GLAD_LOSS='mse_fb', H=3, Hd=20, INIT_DIAG=0, K_test=50, K_train=20, K_valid=20, Kij_max=5.0, Kij_min=1.0, L=10, MODEL_SELECT='aupr', NOISE_PARAMS=0.1, NOISE_TYPE='dpd', P=5, POINTS_PER_CLASS=200, PRINT_EPOCH=20, SAMPLING_STATE=15, SAVE_GRAPHS='yes', SHARED_COOP_STATE=2, USE_CUDA_FLAG=0, USE_TF_NAMES='yes', beta=1.0, connect_TF_prob=0.2, dropout_percentile=82, dropout_shape=6.5, lambda_init=1, lrDNN=0.01, lr_glad=0.01, nF=3, pcr_high_max=1.0, pcr_high_min=0.7, pcr_low_max=0.5, pcr_low_min=0.2, ratio_MR=0.1, sparsity=0.1, theta_init_offset=1, use_optimizer='adam')\n",
      "\n",
      "\n",
      "Reading the input data: Single cell RNA: M(samples) x D(genes) & corresponding C(targets)\n",
      "This should work\n",
      "Filepath:  ../grnular/data/saved_data/KTr20_KVa20_KTe50_D100_C5_Sp0.1_Dtclean_ppc200_SS15_NP0.1_De1.0_NTdpd_SCS2_pcrln0.2_pcrlx0.5_pcrhn0.7_pcrhx1.0_kmin1.0_kmax5.0_rMR0.1_TFp0.2_.pickle\n",
      "Data loaded\n",
      "Using  mean  scaling\n",
      "TF [0 1 2 3 4 5 6 7 8 9]\n",
      "Using  mean  scaling\n",
      "TF [0 1 2 3 4 5 6 7 8 9]\n",
      "Using  mean  scaling\n",
      "TF [0 1 2 3 4 5 6 7 8 9]\n",
      "Training the GLAD model\n",
      "Training phase of grnular: batch\n",
      "CHECK RHO and theta INITIAL:  Parameter containing:\n",
      "tensor([[-0.4748, -0.5446, -0.2661],\n",
      "        [ 0.1073,  0.0058,  0.5165],\n",
      "        [-0.3187, -0.0804,  0.4325]], requires_grad=True) Parameter containing:\n",
      "tensor([1.], requires_grad=True)\n",
      "GLAD model check:  Sequential(\n",
      "  (0): Linear(in_features=3, out_features=3, bias=True)\n",
      "  (1): Tanh()\n",
      "  (2): Linear(in_features=3, out_features=3, bias=True)\n",
      "  (3): Tanh()\n",
      "  (4): Linear(in_features=3, out_features=1, bias=True)\n",
      "  (5): Sigmoid()\n",
      ")\n",
      "Scheduler milestones:  [10]  gamma = 0.75\n",
      "selecting random points for training:  [ 1 17 11  5  2  9 10  4 16 12  3  7  8 14 13 19 15 18  0  6] 20\n",
      "DNN model check: Sequential(\n",
      "  (0): Linear(in_features=10, out_features=20, bias=True)\n",
      "  (1): ReLU()\n",
      "  (2): Linear(in_features=20, out_features=100, bias=True)\n",
      ")\n",
      "#################### total points =  1000\n",
      "INIT Dnn epoch =  0  Loss DNN:  tensor(1.0524, grad_fn=<MseLossBackward>)\n",
      "INIT Dnn epoch =  4  Loss DNN:  tensor(0.8035, grad_fn=<MseLossBackward>)\n",
      "INIT Dnn epoch =  8  Loss DNN:  tensor(0.5809, grad_fn=<MseLossBackward>)\n",
      "INIT Dnn epoch =  12  Loss DNN:  tensor(0.4139, grad_fn=<MseLossBackward>)\n",
      "INIT Dnn epoch =  16  Loss DNN:  tensor(0.3162, grad_fn=<MseLossBackward>)\n",
      "INIT Dnn epoch =  20  Loss DNN:  tensor(0.2556, grad_fn=<MseLossBackward>)\n",
      "INIT Dnn epoch =  24  Loss DNN:  tensor(0.2246, grad_fn=<MseLossBackward>)\n",
      "INIT Dnn epoch =  28  Loss DNN:  tensor(0.1959, grad_fn=<MseLossBackward>)\n",
      "INIT Dnn epoch =  32  Loss DNN:  tensor(0.1806, grad_fn=<MseLossBackward>)\n",
      "INIT Dnn epoch =  36  Loss DNN:  tensor(0.1748, grad_fn=<MseLossBackward>)\n",
      "Dnn epoch =  0  Loss DNN:  tensor([0.1985], grad_fn=<AddBackward0>)\n",
      "Different loss: mse  tensor(0.1247, grad_fn=<MseLossBackward>)  fb tensor(0.8986, grad_fn=<RsubBackward1>)  Balancing r = fb/mse tensor(7.2080)\n",
      "\n",
      " Epoch =  0 Batch =  0  loss glad =  1.738862\n",
      "Recovery :FDR, TPR, FPR, SHD, nnz_true, nnz_pred, precision, recall, Fb, aupr, auc  0.625 0.307 0.015 165.0 137.0 112.0 0.375 0.307 0.337 0.238 0.647\n",
      "Check Hd:  20\n"
     ]
    },
    {
     "ename": "KeyboardInterrupt",
     "evalue": "",
     "output_type": "error",
     "traceback": [
      "\u001b[0;31m---------------------------------------------------------------------------\u001b[0m",
      "\u001b[0;31mKeyboardInterrupt\u001b[0m                         Traceback (most recent call last)",
      "\u001b[0;32m~/anaconda3/envs/pytorch/lib/python3.5/runpy.py\u001b[0m in \u001b[0;36mrun_module\u001b[0;34m(mod_name, init_globals, run_name, alter_sys)\u001b[0m\n\u001b[1;32m    203\u001b[0m         \u001b[0mrun_name\u001b[0m \u001b[0;34m=\u001b[0m \u001b[0mmod_name\u001b[0m\u001b[0;34m\u001b[0m\u001b[0m\n\u001b[1;32m    204\u001b[0m     \u001b[0;32mif\u001b[0m \u001b[0malter_sys\u001b[0m\u001b[0;34m:\u001b[0m\u001b[0;34m\u001b[0m\u001b[0m\n\u001b[0;32m--> 205\u001b[0;31m         \u001b[0;32mreturn\u001b[0m \u001b[0m_run_module_code\u001b[0m\u001b[0;34m(\u001b[0m\u001b[0mcode\u001b[0m\u001b[0;34m,\u001b[0m \u001b[0minit_globals\u001b[0m\u001b[0;34m,\u001b[0m \u001b[0mrun_name\u001b[0m\u001b[0;34m,\u001b[0m \u001b[0mmod_spec\u001b[0m\u001b[0;34m)\u001b[0m\u001b[0;34m\u001b[0m\u001b[0m\n\u001b[0m\u001b[1;32m    206\u001b[0m     \u001b[0;32melse\u001b[0m\u001b[0;34m:\u001b[0m\u001b[0;34m\u001b[0m\u001b[0m\n\u001b[1;32m    207\u001b[0m         \u001b[0;31m# Leave the sys module alone\u001b[0m\u001b[0;34m\u001b[0m\u001b[0;34m\u001b[0m\u001b[0m\n",
      "\u001b[0;32m~/anaconda3/envs/pytorch/lib/python3.5/runpy.py\u001b[0m in \u001b[0;36m_run_module_code\u001b[0;34m(code, init_globals, mod_name, mod_spec, pkg_name, script_name)\u001b[0m\n\u001b[1;32m     94\u001b[0m         \u001b[0mmod_globals\u001b[0m \u001b[0;34m=\u001b[0m \u001b[0mtemp_module\u001b[0m\u001b[0;34m.\u001b[0m\u001b[0mmodule\u001b[0m\u001b[0;34m.\u001b[0m\u001b[0m__dict__\u001b[0m\u001b[0;34m\u001b[0m\u001b[0m\n\u001b[1;32m     95\u001b[0m         _run_code(code, mod_globals, init_globals,\n\u001b[0;32m---> 96\u001b[0;31m                   mod_name, mod_spec, pkg_name, script_name)\n\u001b[0m\u001b[1;32m     97\u001b[0m     \u001b[0;31m# Copy the globals of the temporary module, as they\u001b[0m\u001b[0;34m\u001b[0m\u001b[0;34m\u001b[0m\u001b[0m\n\u001b[1;32m     98\u001b[0m     \u001b[0;31m# may be cleared when the temporary module goes away\u001b[0m\u001b[0;34m\u001b[0m\u001b[0;34m\u001b[0m\u001b[0m\n",
      "\u001b[0;32m~/anaconda3/envs/pytorch/lib/python3.5/runpy.py\u001b[0m in \u001b[0;36m_run_code\u001b[0;34m(code, run_globals, init_globals, mod_name, mod_spec, pkg_name, script_name)\u001b[0m\n\u001b[1;32m     83\u001b[0m                        \u001b[0m__package__\u001b[0m \u001b[0;34m=\u001b[0m \u001b[0mpkg_name\u001b[0m\u001b[0;34m,\u001b[0m\u001b[0;34m\u001b[0m\u001b[0m\n\u001b[1;32m     84\u001b[0m                        __spec__ = mod_spec)\n\u001b[0;32m---> 85\u001b[0;31m     \u001b[0mexec\u001b[0m\u001b[0;34m(\u001b[0m\u001b[0mcode\u001b[0m\u001b[0;34m,\u001b[0m \u001b[0mrun_globals\u001b[0m\u001b[0;34m)\u001b[0m\u001b[0;34m\u001b[0m\u001b[0m\n\u001b[0m\u001b[1;32m     86\u001b[0m     \u001b[0;32mreturn\u001b[0m \u001b[0mrun_globals\u001b[0m\u001b[0;34m\u001b[0m\u001b[0m\n\u001b[1;32m     87\u001b[0m \u001b[0;34m\u001b[0m\u001b[0m\n",
      "\u001b[0;32m~/research/ALIENN/release_git/GRNUlar/notebooks/main_grnular_sample.py\u001b[0m in \u001b[0;36m<module>\u001b[0;34m()\u001b[0m\n\u001b[1;32m    625\u001b[0m \u001b[0;34m\u001b[0m\u001b[0m\n\u001b[1;32m    626\u001b[0m \u001b[0;32mif\u001b[0m \u001b[0m__name__\u001b[0m\u001b[0;34m==\u001b[0m\u001b[0;34m\"__main__\"\u001b[0m\u001b[0;34m:\u001b[0m\u001b[0;34m\u001b[0m\u001b[0m\n\u001b[0;32m--> 627\u001b[0;31m    \u001b[0mmain\u001b[0m\u001b[0;34m(\u001b[0m\u001b[0;34m)\u001b[0m\u001b[0;34m\u001b[0m\u001b[0m\n\u001b[0m",
      "\u001b[0;32m~/research/ALIENN/release_git/GRNUlar/notebooks/main_grnular_sample.py\u001b[0m in \u001b[0;36mmain\u001b[0;34m()\u001b[0m\n\u001b[1;32m    603\u001b[0m         \u001b[0;32mif\u001b[0m \u001b[0mTRAIN\u001b[0m\u001b[0;34m:\u001b[0m\u001b[0;34m\u001b[0m\u001b[0m\n\u001b[1;32m    604\u001b[0m             \u001b[0mprint\u001b[0m\u001b[0;34m(\u001b[0m\u001b[0;34m'Training the GLAD model'\u001b[0m\u001b[0;34m)\u001b[0m\u001b[0;34m\u001b[0m\u001b[0m\n\u001b[0;32m--> 605\u001b[0;31m             \u001b[0mmodel\u001b[0m \u001b[0;34m=\u001b[0m \u001b[0mglad_train_batch\u001b[0m\u001b[0;34m(\u001b[0m\u001b[0mtrain_data\u001b[0m\u001b[0;34m,\u001b[0m \u001b[0mvalid_data\u001b[0m\u001b[0;34m)\u001b[0m\u001b[0;34m\u001b[0m\u001b[0m\n\u001b[0m\u001b[1;32m    606\u001b[0m         \u001b[0mprint\u001b[0m\u001b[0;34m(\u001b[0m\u001b[0;34m'*****************************************************************************'\u001b[0m\u001b[0;34m)\u001b[0m\u001b[0;34m\u001b[0m\u001b[0m\n\u001b[1;32m    607\u001b[0m         \u001b[0mprint\u001b[0m\u001b[0;34m(\u001b[0m\u001b[0;34m'GLAD batch predict results: Number of data pairs Train/valid/test '\u001b[0m\u001b[0;34m,\u001b[0m \u001b[0mlen\u001b[0m\u001b[0;34m(\u001b[0m\u001b[0mtrain_data\u001b[0m\u001b[0;34m)\u001b[0m\u001b[0;34m,\u001b[0m \u001b[0mlen\u001b[0m\u001b[0;34m(\u001b[0m\u001b[0mvalid_data\u001b[0m\u001b[0;34m)\u001b[0m\u001b[0;34m,\u001b[0m \u001b[0mlen\u001b[0m\u001b[0;34m(\u001b[0m\u001b[0mtest_data\u001b[0m\u001b[0;34m)\u001b[0m\u001b[0;34m)\u001b[0m\u001b[0;34m\u001b[0m\u001b[0m\n",
      "\u001b[0;32m~/research/ALIENN/release_git/GRNUlar/notebooks/main_grnular_sample.py\u001b[0m in \u001b[0;36mglad_train_batch\u001b[0;34m(train_data, valid_data)\u001b[0m\n\u001b[1;32m    310\u001b[0m             \u001b[0;32mif\u001b[0m \u001b[0mlen\u001b[0m\u001b[0;34m(\u001b[0m\u001b[0mvalid_data\u001b[0m\u001b[0;34m)\u001b[0m\u001b[0;34m>\u001b[0m\u001b[0;36m0\u001b[0m \u001b[0;32mand\u001b[0m \u001b[0mepoch\u001b[0m\u001b[0;34m>\u001b[0m\u001b[0;36m0\u001b[0m \u001b[0;32mand\u001b[0m \u001b[0;34m(\u001b[0m\u001b[0mepoch\u001b[0m\u001b[0;34m%\u001b[0m\u001b[0mint\u001b[0m\u001b[0;34m(\u001b[0m\u001b[0margs\u001b[0m\u001b[0;34m.\u001b[0m\u001b[0mEPOCHS\u001b[0m\u001b[0;34m/\u001b[0m\u001b[0;36m2\u001b[0m\u001b[0;34m)\u001b[0m\u001b[0;34m==\u001b[0m\u001b[0;36m0\u001b[0m \u001b[0;32mor\u001b[0m \u001b[0mepoch\u001b[0m\u001b[0;34m==\u001b[0m\u001b[0margs\u001b[0m\u001b[0;34m.\u001b[0m\u001b[0mEPOCHS\u001b[0m\u001b[0;34m-\u001b[0m\u001b[0;36m1\u001b[0m\u001b[0;34m)\u001b[0m\u001b[0;34m:\u001b[0m \u001b[0;31m#Update once every 3 epochs : and args.MODEL_SELECT!='current':\u001b[0m\u001b[0;34m\u001b[0m\u001b[0m\n\u001b[1;32m    311\u001b[0m                 \u001b[0;31m# best best Fb model\u001b[0m\u001b[0;34m\u001b[0m\u001b[0;34m\u001b[0m\u001b[0m\n\u001b[0;32m--> 312\u001b[0;31m                 \u001b[0mcurr_valid_shd\u001b[0m\u001b[0;34m,\u001b[0m \u001b[0mcurr_valid_Fb\u001b[0m \u001b[0;34m=\u001b[0m \u001b[0mglad_predict_batch\u001b[0m\u001b[0;34m(\u001b[0m\u001b[0mmodel_glad\u001b[0m\u001b[0;34m,\u001b[0m \u001b[0mvalid_data\u001b[0m\u001b[0;34m,\u001b[0m \u001b[0mPRINT\u001b[0m\u001b[0;34m=\u001b[0m\u001b[0;32mFalse\u001b[0m\u001b[0;34m)\u001b[0m\u001b[0;34m\u001b[0m\u001b[0m\n\u001b[0m\u001b[1;32m    313\u001b[0m                 \u001b[0mprint\u001b[0m\u001b[0;34m(\u001b[0m\u001b[0;34m'valid: shd Fb accuracy : '\u001b[0m\u001b[0;34m,\u001b[0m  \u001b[0mcurr_valid_shd\u001b[0m\u001b[0;34m,\u001b[0m \u001b[0mcurr_valid_Fb\u001b[0m\u001b[0;34m)\u001b[0m\u001b[0;34m\u001b[0m\u001b[0m\n\u001b[1;32m    314\u001b[0m                 \u001b[0;31m# NOTE: only updating best glad model with\u001b[0m\u001b[0;34m\u001b[0m\u001b[0;34m\u001b[0m\u001b[0m\n",
      "\u001b[0;32m~/research/ALIENN/release_git/GRNUlar/notebooks/main_grnular_sample.py\u001b[0m in \u001b[0;36mglad_predict_batch\u001b[0;34m(model, data, PRINT, PREDICT_TF, BEELINE)\u001b[0m\n\u001b[1;32m    364\u001b[0m \u001b[0;31m#            theta_true = theta_true.real\u001b[0m\u001b[0;34m\u001b[0m\u001b[0;34m\u001b[0m\u001b[0m\n\u001b[1;32m    365\u001b[0m         \u001b[0;31m#        if args.USE_TF_NAMES=='yes' and PREDICT_TF:\u001b[0m\u001b[0;34m\u001b[0m\u001b[0;34m\u001b[0m\u001b[0m\n\u001b[0;32m--> 366\u001b[0;31m                 \u001b[0mres\u001b[0m\u001b[0;34m.\u001b[0m\u001b[0mappend\u001b[0m\u001b[0;34m(\u001b[0m\u001b[0mglad_predict_single\u001b[0m\u001b[0;34m(\u001b[0m\u001b[0mmodel\u001b[0m\u001b[0;34m,\u001b[0m \u001b[0mmodel_auxiliary\u001b[0m\u001b[0;34m,\u001b[0m \u001b[0mtheta_true\u001b[0m\u001b[0;34m,\u001b[0m \u001b[0mX\u001b[0m\u001b[0;34m,\u001b[0m \u001b[0mTF\u001b[0m\u001b[0;34m,\u001b[0m \u001b[0mPRINT\u001b[0m\u001b[0;34m=\u001b[0m\u001b[0;32mFalse\u001b[0m\u001b[0;34m,\u001b[0m \u001b[0mpair_num\u001b[0m\u001b[0;34m=\u001b[0m\u001b[0mi\u001b[0m\u001b[0;34m)\u001b[0m\u001b[0;34m)\u001b[0m\u001b[0;34m\u001b[0m\u001b[0m\n\u001b[0m\u001b[1;32m    367\u001b[0m         \u001b[0;31m#    print('Check res: ', res)\u001b[0m\u001b[0;34m\u001b[0m\u001b[0;34m\u001b[0m\u001b[0m\n\u001b[1;32m    368\u001b[0m         \u001b[0;32mif\u001b[0m \u001b[0mBEELINE\u001b[0m\u001b[0;34m:\u001b[0m\u001b[0;34m\u001b[0m\u001b[0m\n",
      "\u001b[0;32m~/research/ALIENN/release_git/GRNUlar/notebooks/main_grnular_sample.py\u001b[0m in \u001b[0;36mglad_predict_single\u001b[0;34m(model, model_auxiliary, theta_true, X, TF, PRINT, pair_num, BEELINE)\u001b[0m\n\u001b[1;32m    505\u001b[0m     \u001b[0;31m# run unrolled model\u001b[0m\u001b[0;34m\u001b[0m\u001b[0;34m\u001b[0m\u001b[0m\n\u001b[1;32m    506\u001b[0m \u001b[0;31m#    theta_s, loss_glad = grnular.grnular(X, theta_true, TF, [model_glad, model_dnn, optimizer_dnn], args, criterion_graph, PRINT=PRINT, PREDICT=True) # output = theta_s, loss_glad\u001b[0m\u001b[0;34m\u001b[0m\u001b[0;34m\u001b[0m\u001b[0m\n\u001b[0;32m--> 507\u001b[0;31m     \u001b[0mtheta_s\u001b[0m\u001b[0;34m,\u001b[0m \u001b[0mloss_glad\u001b[0m \u001b[0;34m=\u001b[0m \u001b[0mgrnular\u001b[0m\u001b[0;34m.\u001b[0m\u001b[0mgrnular\u001b[0m\u001b[0;34m(\u001b[0m\u001b[0mX\u001b[0m\u001b[0;34m,\u001b[0m \u001b[0mtheta_true\u001b[0m\u001b[0;34m,\u001b[0m \u001b[0mTF\u001b[0m\u001b[0;34m,\u001b[0m \u001b[0mmodel_glad\u001b[0m\u001b[0;34m,\u001b[0m \u001b[0margs\u001b[0m\u001b[0;34m,\u001b[0m \u001b[0mcriterion_graph\u001b[0m\u001b[0;34m,\u001b[0m \u001b[0mPRINT\u001b[0m\u001b[0;34m=\u001b[0m\u001b[0mPRINT\u001b[0m\u001b[0;34m,\u001b[0m \u001b[0mPREDICT\u001b[0m\u001b[0;34m=\u001b[0m\u001b[0;32mTrue\u001b[0m\u001b[0;34m)\u001b[0m \u001b[0;31m# output = theta_s, loss_glad\u001b[0m\u001b[0;34m\u001b[0m\u001b[0m\n\u001b[0m\u001b[1;32m    508\u001b[0m     \u001b[0mtheta_s\u001b[0m \u001b[0;34m=\u001b[0m \u001b[0mtorch\u001b[0m\u001b[0;34m.\u001b[0m\u001b[0msqueeze\u001b[0m\u001b[0;34m(\u001b[0m\u001b[0mtheta_s\u001b[0m\u001b[0;34m)\u001b[0m\u001b[0;34m\u001b[0m\u001b[0m\n\u001b[1;32m    509\u001b[0m \u001b[0;34m\u001b[0m\u001b[0m\n",
      "\u001b[0;32m~/research/ALIENN/release_git/GRNUlar/grnular/source/grnular.py\u001b[0m in \u001b[0;36mgrnular\u001b[0;34m(X, theta_true, TF, models, args, criterion_graph, PRINT, PREDICT)\u001b[0m\n\u001b[1;32m    198\u001b[0m         \u001b[0;32mif\u001b[0m \u001b[0mPRINT\u001b[0m \u001b[0;32mand\u001b[0m \u001b[0mk\u001b[0m\u001b[0;34m==\u001b[0m\u001b[0margs\u001b[0m\u001b[0;34m.\u001b[0m\u001b[0mL\u001b[0m\u001b[0;34m-\u001b[0m\u001b[0;36m1\u001b[0m\u001b[0;34m:\u001b[0m \u001b[0;31m# only print in last iteration of K\u001b[0m\u001b[0;34m\u001b[0m\u001b[0m\n\u001b[1;32m    199\u001b[0m             \u001b[0mdo_PRINT\u001b[0m \u001b[0;34m=\u001b[0m \u001b[0;32mTrue\u001b[0m\u001b[0;34m\u001b[0m\u001b[0m\n\u001b[0;32m--> 200\u001b[0;31m         \u001b[0mtheta_k\u001b[0m\u001b[0;34m,\u001b[0m \u001b[0mmodel_details\u001b[0m \u001b[0;34m=\u001b[0m \u001b[0moptDNN\u001b[0m\u001b[0;34m(\u001b[0m\u001b[0mmodel_details\u001b[0m\u001b[0;34m,\u001b[0m \u001b[0mX\u001b[0m\u001b[0;34m,\u001b[0m \u001b[0mZ\u001b[0m\u001b[0;34m.\u001b[0m\u001b[0mdetach\u001b[0m\u001b[0;34m(\u001b[0m\u001b[0;34m)\u001b[0m\u001b[0;34m,\u001b[0m \u001b[0mTF\u001b[0m\u001b[0;34m,\u001b[0m \u001b[0mlambda_k\u001b[0m\u001b[0;34m.\u001b[0m\u001b[0mdetach\u001b[0m\u001b[0;34m(\u001b[0m\u001b[0;34m)\u001b[0m\u001b[0;34m,\u001b[0m \u001b[0margs\u001b[0m\u001b[0;34m,\u001b[0m \u001b[0mdo_PRINT\u001b[0m\u001b[0;34m,\u001b[0m \u001b[0mPREDICT\u001b[0m\u001b[0;34m)\u001b[0m\u001b[0;31m# DxT\u001b[0m\u001b[0;34m\u001b[0m\u001b[0m\n\u001b[0m\u001b[1;32m    201\u001b[0m         \u001b[0;31m#theta_k = optDNN([model_dnn, optimizer_dnn], X, Z.detach(), TF, lambda_k.detach(), args, do_PRINT, PREDICT)# DxT\u001b[0m\u001b[0;34m\u001b[0m\u001b[0;34m\u001b[0m\u001b[0m\n\u001b[1;32m    202\u001b[0m         \u001b[0;31m#theta_k = optDNN([model_dnn, optimizer_dnn], X, Z, TF, lambda_k, args, do_PRINT, PREDICT)# DxT\u001b[0m\u001b[0;34m\u001b[0m\u001b[0;34m\u001b[0m\u001b[0m\n",
      "\u001b[0;32m~/research/ALIENN/release_git/GRNUlar/grnular/source/grnular.py\u001b[0m in \u001b[0;36moptDNN\u001b[0;34m(model_details, X, Z, TF, lambda_k, args, PRINT, PREDICT)\u001b[0m\n\u001b[1;32m    115\u001b[0m         \u001b[0mloss_dnn\u001b[0m\u001b[0;34m.\u001b[0m\u001b[0mbackward\u001b[0m\u001b[0;34m(\u001b[0m\u001b[0;34m)\u001b[0m \u001b[0;31m# calculate the gradients\u001b[0m\u001b[0;34m\u001b[0m\u001b[0m\n\u001b[1;32m    116\u001b[0m         \u001b[0;31m#loss_dnn.backward(retain_graph=True) # calculate the gradients\u001b[0m\u001b[0;34m\u001b[0m\u001b[0;34m\u001b[0m\u001b[0m\n\u001b[0;32m--> 117\u001b[0;31m         \u001b[0moptimizer_dnn\u001b[0m\u001b[0;34m.\u001b[0m\u001b[0mstep\u001b[0m\u001b[0;34m(\u001b[0m\u001b[0;34m)\u001b[0m \u001b[0;31m# update the weights\u001b[0m\u001b[0;34m\u001b[0m\u001b[0m\n\u001b[0m\u001b[1;32m    118\u001b[0m         \u001b[0;31m#if p%int(args.DNN_EPOCHS/10)==0 and PRINT:\u001b[0m\u001b[0;34m\u001b[0m\u001b[0;34m\u001b[0m\u001b[0m\n\u001b[1;32m    119\u001b[0m         \u001b[0;32mif\u001b[0m \u001b[0mPRINT\u001b[0m \u001b[0;32mand\u001b[0m \u001b[0mp\u001b[0m\u001b[0;34m%\u001b[0m\u001b[0;36m10\u001b[0m\u001b[0;34m==\u001b[0m\u001b[0;36m0\u001b[0m\u001b[0;34m:\u001b[0m\u001b[0;34m\u001b[0m\u001b[0m\n",
      "\u001b[0;32m~/anaconda3/envs/pytorch/lib/python3.5/site-packages/torch/optim/adam.py\u001b[0m in \u001b[0;36mstep\u001b[0;34m(self, closure)\u001b[0m\n\u001b[1;32m     85\u001b[0m                 \u001b[0mbeta1\u001b[0m\u001b[0;34m,\u001b[0m \u001b[0mbeta2\u001b[0m \u001b[0;34m=\u001b[0m \u001b[0mgroup\u001b[0m\u001b[0;34m[\u001b[0m\u001b[0;34m'betas'\u001b[0m\u001b[0;34m]\u001b[0m\u001b[0;34m\u001b[0m\u001b[0m\n\u001b[1;32m     86\u001b[0m \u001b[0;34m\u001b[0m\u001b[0m\n\u001b[0;32m---> 87\u001b[0;31m                 \u001b[0mstate\u001b[0m\u001b[0;34m[\u001b[0m\u001b[0;34m'step'\u001b[0m\u001b[0;34m]\u001b[0m \u001b[0;34m+=\u001b[0m \u001b[0;36m1\u001b[0m\u001b[0;34m\u001b[0m\u001b[0m\n\u001b[0m\u001b[1;32m     88\u001b[0m \u001b[0;34m\u001b[0m\u001b[0m\n\u001b[1;32m     89\u001b[0m                 \u001b[0;32mif\u001b[0m \u001b[0mgroup\u001b[0m\u001b[0;34m[\u001b[0m\u001b[0;34m'weight_decay'\u001b[0m\u001b[0;34m]\u001b[0m \u001b[0;34m!=\u001b[0m \u001b[0;36m0\u001b[0m\u001b[0;34m:\u001b[0m\u001b[0;34m\u001b[0m\u001b[0m\n",
      "\u001b[0;31mKeyboardInterrupt\u001b[0m: "
     ]
    },
    {
     "name": "stderr",
     "output_type": "stream",
     "text": [
      "/home/harsh/anaconda3/envs/pytorch/lib/python3.5/site-packages/IPython/core/interactiveshell.py:2634: UserWarning: Unknown failure executing module: <notebooks.main_grnular_sample>\n",
      "  warn('Unknown failure executing module: <%s>' % mod_name)\n"
     ]
    }
   ],
   "source": [
    "#%run -i -m 'grnular.source.main_grnular'\n",
    "%run -i -m 'notebooks.main_grnular_sample'"
   ]
  },
  {
   "cell_type": "code",
   "execution_count": null,
   "metadata": {},
   "outputs": [],
   "source": []
  }
 ],
 "metadata": {
  "kernelspec": {
   "display_name": "Python [conda env:pytorch]",
   "language": "python",
   "name": "conda-env-pytorch-py"
  },
  "language_info": {
   "codemirror_mode": {
    "name": "ipython",
    "version": 3
   },
   "file_extension": ".py",
   "mimetype": "text/x-python",
   "name": "python",
   "nbconvert_exporter": "python",
   "pygments_lexer": "ipython3",
   "version": "3.5.5"
  }
 },
 "nbformat": 4,
 "nbformat_minor": 2
}
